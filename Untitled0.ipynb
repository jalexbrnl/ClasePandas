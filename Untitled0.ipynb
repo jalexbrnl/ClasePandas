{
  "nbformat": 4,
  "nbformat_minor": 0,
  "metadata": {
    "colab": {
      "provenance": [],
      "authorship_tag": "ABX9TyP73LL99190/7JmKF8DwIGn",
      "include_colab_link": true
    },
    "kernelspec": {
      "name": "python3",
      "display_name": "Python 3"
    },
    "language_info": {
      "name": "python"
    }
  },
  "cells": [
    {
      "cell_type": "markdown",
      "metadata": {
        "id": "view-in-github",
        "colab_type": "text"
      },
      "source": [
        "<a href=\"https://colab.research.google.com/github/jalexbrnl/ClasePandas/blob/main/Untitled0.ipynb\" target=\"_parent\"><img src=\"https://colab.research.google.com/assets/colab-badge.svg\" alt=\"Open In Colab\"/></a>"
      ]
    },
    {
      "cell_type": "code",
      "execution_count": null,
      "metadata": {
        "colab": {
          "base_uri": "https://localhost:8080/"
        },
        "id": "Ot2Ef-eSmPAV",
        "outputId": "dc297923-2748-41c5-9193-dbea648e622d"
      },
      "outputs": [
        {
          "output_type": "stream",
          "name": "stdout",
          "text": [
            "Ingrese el primer número: 56\n",
            "Ingrese el segundo número: 98\n",
            "El resultado es: 0.5714285714285714\n"
          ]
        }
      ],
      "source": [
        "num_a = int(input(\"Ingrese el primer número: \"))\n",
        "num_b = int(input(\"Ingrese el segundo número: \"))\n",
        "if (num_b == 0):\n",
        "    print(\"El denominador no puede ser 0\")\n",
        "else:\n",
        "    resultado = num_a / num_b\n",
        "    print(\"El resultado es:\",resultado)"
      ]
    },
    {
      "cell_type": "code",
      "source": [
        "# Promedio usando funciones\n",
        "def llenado():\n",
        "    n = int(input(\"cantidad de elementos\"))\n",
        "    lista = []\n",
        "    for i in range(n):\n",
        "        valor = float(input(\"ingrese los valores\"))\n",
        "        lista.append(valor)\n",
        "    return lista\n",
        "list = llenado()\n",
        "\n",
        "def suma(lista):\n",
        "    resultado = 0\n",
        "    n = len(lista)\n",
        "    for i in range (n):\n",
        "        resultado = resultado + lista [i]\n",
        "    return resultado\n",
        "\n",
        "sumatoria = suma(list)\n",
        "\n",
        "def promedio(suma,n):\n",
        "    prom = suma/n\n",
        "    return prom\n",
        "n = len(list)\n",
        "print(promedio(sumatoria, n))"
      ],
      "metadata": {
        "colab": {
          "base_uri": "https://localhost:8080/"
        },
        "id": "jbYMSk1IZHSW",
        "outputId": "8f6ffa51-be68-4f67-e519-31931cfcec82"
      },
      "execution_count": null,
      "outputs": [
        {
          "output_type": "stream",
          "name": "stdout",
          "text": [
            "cantidad de elementos4\n",
            "ingrese los valores6\n",
            "ingrese los valores9\n",
            "ingrese los valores5\n",
            "ingrese los valores7\n",
            "6.75\n"
          ]
        }
      ]
    },
    {
      "cell_type": "code",
      "source": [
        "n = int(input(\"Cuantos dígitos tiene su cédula: \"))\n",
        "lista = []\n",
        "for i in range(n):\n",
        "    digito = int(input(\"Ingrese los de su cédula uno a uno: \"))\n",
        "    lista.append(digito)\n",
        "for i in range(len(lista)):\n",
        "    print(lista[i])"
      ],
      "metadata": {
        "colab": {
          "base_uri": "https://localhost:8080/"
        },
        "id": "AbaCcxGh_cqi",
        "outputId": "3d931c96-4944-44fc-a9dd-4f1b26d36763"
      },
      "execution_count": null,
      "outputs": [
        {
          "output_type": "stream",
          "name": "stdout",
          "text": [
            "Cuantos dígitos tiene su cédula: 3\n",
            "Ingrese los de su cédula uno a uno: 2\n",
            "Ingrese los de su cédula uno a uno: 4\n",
            "Ingrese los de su cédula uno a uno: 7\n",
            "2\n",
            "4\n",
            "7\n"
          ]
        }
      ]
    },
    {
      "cell_type": "code",
      "source": [
        "# Sumatoria de valores correspondientes de lista A y B en lista C\n",
        "n = int(input(\"Cuantos dígitos tiene su lista: \"))\n",
        "lista_a = []\n",
        "lista_b = []\n",
        "lista_c = []\n",
        "for i in range(n):\n",
        "    digito_a = int(input(\"ingrese el número A: \"))\n",
        "    lista_a.append(digito_a)\n",
        "    digito_b = int(input(\"ingrese el número B: \"))\n",
        "    lista_b.append(digito_b)\n",
        "for i in range(len(lista_a)):\n",
        "    print(lista_a[i] + lista_b[i])\n",
        "    lista_c.append(lista_a[i] + lista_b[i])\n",
        "print(lista_c)"
      ],
      "metadata": {
        "colab": {
          "base_uri": "https://localhost:8080/"
        },
        "id": "KVzvO7wuDJVJ",
        "outputId": "108a51f6-aee1-4329-e257-765bd3d4df78"
      },
      "execution_count": null,
      "outputs": [
        {
          "output_type": "stream",
          "name": "stdout",
          "text": [
            "Cuantos dígitos tiene su lista: 2\n",
            "ingrese el número A: 1\n",
            "ingrese el número B: 2\n",
            "ingrese el número A: 3\n",
            "ingrese el número B: 4\n",
            "3\n",
            "7\n",
            "[3, 7]\n"
          ]
        }
      ]
    },
    {
      "cell_type": "code",
      "source": [
        "# Promedio\n",
        "n = int(input(\"Cuantos números tiene su lista: \"))\n",
        "promedio = 0\n",
        "lista = []\n",
        "for i in range (n):\n",
        "    digito = int(input(\"Ingrese los valores: \"))\n",
        "    lista.append(digito)\n",
        "promedio = lista / n\n",
        "print(promedio)\n",
        "\n",
        "# Suma = 0\n",
        "# for i in range (n):\n",
        "#    Suma = Suma + lista_c[i]\n",
        "# print(Suma)"
      ],
      "metadata": {
        "id": "xTmaUgPnO8XO",
        "colab": {
          "base_uri": "https://localhost:8080/",
          "height": 280
        },
        "outputId": "436a1ff6-0cb1-4ffc-ab4d-90be78a76640"
      },
      "execution_count": null,
      "outputs": [
        {
          "name": "stdout",
          "output_type": "stream",
          "text": [
            "Cuantos números tiene su lista: 3\n",
            "Ingrese los valores: 3\n",
            "Ingrese los valores: 3\n",
            "Ingrese los valores: 3\n"
          ]
        },
        {
          "output_type": "error",
          "ename": "TypeError",
          "evalue": "unsupported operand type(s) for /: 'list' and 'int'",
          "traceback": [
            "\u001b[0;31m---------------------------------------------------------------------------\u001b[0m",
            "\u001b[0;31mTypeError\u001b[0m                                 Traceback (most recent call last)",
            "\u001b[0;32m<ipython-input-1-7bc4b8234706>\u001b[0m in \u001b[0;36m<cell line: 8>\u001b[0;34m()\u001b[0m\n\u001b[1;32m      6\u001b[0m     \u001b[0mdigito\u001b[0m \u001b[0;34m=\u001b[0m \u001b[0mint\u001b[0m\u001b[0;34m(\u001b[0m\u001b[0minput\u001b[0m\u001b[0;34m(\u001b[0m\u001b[0;34m\"Ingrese los valores: \"\u001b[0m\u001b[0;34m)\u001b[0m\u001b[0;34m)\u001b[0m\u001b[0;34m\u001b[0m\u001b[0;34m\u001b[0m\u001b[0m\n\u001b[1;32m      7\u001b[0m     \u001b[0mlista\u001b[0m\u001b[0;34m.\u001b[0m\u001b[0mappend\u001b[0m\u001b[0;34m(\u001b[0m\u001b[0mdigito\u001b[0m\u001b[0;34m)\u001b[0m\u001b[0;34m\u001b[0m\u001b[0;34m\u001b[0m\u001b[0m\n\u001b[0;32m----> 8\u001b[0;31m \u001b[0mpromedio\u001b[0m \u001b[0;34m=\u001b[0m \u001b[0mlista\u001b[0m \u001b[0;34m/\u001b[0m \u001b[0mn\u001b[0m\u001b[0;34m\u001b[0m\u001b[0;34m\u001b[0m\u001b[0m\n\u001b[0m\u001b[1;32m      9\u001b[0m \u001b[0mprint\u001b[0m\u001b[0;34m(\u001b[0m\u001b[0mpromedio\u001b[0m\u001b[0;34m)\u001b[0m\u001b[0;34m\u001b[0m\u001b[0;34m\u001b[0m\u001b[0m\n\u001b[1;32m     10\u001b[0m \u001b[0;34m\u001b[0m\u001b[0m\n",
            "\u001b[0;31mTypeError\u001b[0m: unsupported operand type(s) for /: 'list' and 'int'"
          ]
        }
      ]
    },
    {
      "cell_type": "code",
      "source": [
        "\n",
        "n = int(input(\"Cuantos dígitos tiene su lista: \"))\n",
        "lista_a = []\n",
        "lista_b = []\n",
        "lista_c = []\n",
        "for i in range(n):\n",
        "    digito_a = int(input(\"ingrese el número A: \"))\n",
        "    lista_a.append(digito_a)\n",
        "    digito_b = int(input(\"ingrese el número B: \"))\n",
        "    lista_b.append(digito_b)\n",
        "for i in range(len(lista_a)):\n",
        "    print(lista_a[i] + lista_b[i])\n",
        "    lista_c.append(lista_a[i] + lista_b[i])\n",
        "print(lista_c)"
      ],
      "metadata": {
        "id": "wq3-3LeQGoEv"
      },
      "execution_count": null,
      "outputs": []
    },
    {
      "cell_type": "code",
      "source": [
        "peso = float(input(\"Ingrese su peso en kg: \"))\n",
        "altura = float(input(\"Ingrese su altura en metros: \"))\n",
        "imc = peso / (altura ** 2)\n",
        "print(\"Su IMC es:\", imc)\n",
        "if imc <= 18.5:\n",
        "    print(\"Delgado\")\n",
        "elif imc <= 25:\n",
        "    print(\"Normal\")\n",
        "elif imc <= 30:\n",
        "    print(\"Sobrepeso\")\n",
        "else:\n",
        "    print(\"Obeso\")"
      ],
      "metadata": {
        "colab": {
          "base_uri": "https://localhost:8080/"
        },
        "id": "i7L40jnSp4fQ",
        "outputId": "5f51b579-ba78-4801-a745-0171caf3ee93"
      },
      "execution_count": null,
      "outputs": [
        {
          "output_type": "stream",
          "name": "stdout",
          "text": [
            "Ingrese su peso en kg: 99\n",
            "Ingrese su altura en metros: 1.50\n",
            "Su IMC es: 44.0\n",
            "Obeso\n"
          ]
        }
      ]
    },
    {
      "cell_type": "code",
      "source": [
        "n = 100\n",
        "for i in range(n):\n",
        "  if i%2 == 0:\n",
        "    print(\" El valor de par \" ,i, \"es\", 2*i)"
      ],
      "metadata": {
        "id": "V7wmyCx78x8q",
        "colab": {
          "base_uri": "https://localhost:8080/"
        },
        "outputId": "9505387f-9246-44f4-cd5e-3d06cf21d160"
      },
      "execution_count": null,
      "outputs": [
        {
          "output_type": "stream",
          "name": "stdout",
          "text": [
            " El valor de par  0 es 0\n",
            " El valor de par  2 es 4\n",
            " El valor de par  4 es 8\n",
            " El valor de par  6 es 12\n",
            " El valor de par  8 es 16\n",
            " El valor de par  10 es 20\n",
            " El valor de par  12 es 24\n",
            " El valor de par  14 es 28\n",
            " El valor de par  16 es 32\n",
            " El valor de par  18 es 36\n",
            " El valor de par  20 es 40\n",
            " El valor de par  22 es 44\n",
            " El valor de par  24 es 48\n",
            " El valor de par  26 es 52\n",
            " El valor de par  28 es 56\n",
            " El valor de par  30 es 60\n",
            " El valor de par  32 es 64\n",
            " El valor de par  34 es 68\n",
            " El valor de par  36 es 72\n",
            " El valor de par  38 es 76\n",
            " El valor de par  40 es 80\n",
            " El valor de par  42 es 84\n",
            " El valor de par  44 es 88\n",
            " El valor de par  46 es 92\n",
            " El valor de par  48 es 96\n",
            " El valor de par  50 es 100\n",
            " El valor de par  52 es 104\n",
            " El valor de par  54 es 108\n",
            " El valor de par  56 es 112\n",
            " El valor de par  58 es 116\n",
            " El valor de par  60 es 120\n",
            " El valor de par  62 es 124\n",
            " El valor de par  64 es 128\n",
            " El valor de par  66 es 132\n",
            " El valor de par  68 es 136\n",
            " El valor de par  70 es 140\n",
            " El valor de par  72 es 144\n",
            " El valor de par  74 es 148\n",
            " El valor de par  76 es 152\n",
            " El valor de par  78 es 156\n",
            " El valor de par  80 es 160\n",
            " El valor de par  82 es 164\n",
            " El valor de par  84 es 168\n",
            " El valor de par  86 es 172\n",
            " El valor de par  88 es 176\n",
            " El valor de par  90 es 180\n",
            " El valor de par  92 es 184\n",
            " El valor de par  94 es 188\n",
            " El valor de par  96 es 192\n",
            " El valor de par  98 es 196\n"
          ]
        }
      ]
    },
    {
      "cell_type": "code",
      "source": [
        "for i in range(100):\n",
        "  for i in range(2, n):\n",
        "        if n % i == 0:\n",
        "            break\n",
        "        else:\n",
        "            print(n)"
      ],
      "metadata": {
        "colab": {
          "base_uri": "https://localhost:8080/"
        },
        "id": "Adb7cByaAtUI",
        "outputId": "2914b049-604b-4a66-98e7-28ee3e45ce1f"
      },
      "execution_count": null,
      "outputs": [
        {
          "output_type": "stream",
          "name": "stdout",
          "text": [
            "1\n"
          ]
        }
      ]
    }
  ]
}